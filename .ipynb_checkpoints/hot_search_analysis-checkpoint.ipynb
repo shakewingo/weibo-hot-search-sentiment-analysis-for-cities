{
 "cells": [
  {
   "cell_type": "code",
   "execution_count": null,
   "id": "3d7d23d3-0740-4e83-8234-f1525aa5c325",
   "metadata": {},
   "outputs": [],
   "source": [
    "import plotly.graph_objects as go\n",
    "import pandas as pd"
   ]
  },
  {
   "cell_type": "code",
   "execution_count": null,
   "id": "abf36048-7a7e-4abc-bd10-fa2d1d0172d7",
   "metadata": {},
   "outputs": [],
   "source": [
    "data = pd.read_csv('./hot_search_result.csv')\n",
    "data.head()"
   ]
  },
  {
   "cell_type": "code",
   "execution_count": null,
   "id": "21c2f02a-d57d-42f0-8e14-ec467a5333fb",
   "metadata": {},
   "outputs": [],
   "source": [
    "data_count = data.groupby(['city']).size().sort_values(ascending=False)\n",
    "fig = go.Figure([go.Bar(x=data_count.index, y=data_count.values)])\n",
    "fig.update_layout(title='last 2 years hot search volumes', xaxis_title='city', yaxis_title='volumes')\n",
    "fig.show()"
   ]
  },
  {
   "cell_type": "code",
   "execution_count": null,
   "id": "67b44b9f-5b09-4859-b29a-6cab766808f1",
   "metadata": {},
   "outputs": [],
   "source": [
    "# remove city name in hot_search\n",
    "def remove_city_name(row):\n",
    "    row.hot_search_2 = row.hot_search.replace(row.city, '')\n",
    "    return row\n",
    "data['hot_search_2'] = data['hot_search']\n",
    "data = data.apply(remove_city_name, axis=1)\n",
    "data.head()"
   ]
  },
  {
   "cell_type": "code",
   "execution_count": null,
   "id": "52555a10-24f5-44ff-9a8e-f8197717a342",
   "metadata": {},
   "outputs": [],
   "source": [
    "from wordcloud import WordCloud\n",
    "import jieba\n",
    "import matplotlib.pyplot as plt"
   ]
  },
  {
   "cell_type": "code",
   "execution_count": null,
   "id": "77621b89-81c0-4062-9d24-dea012c430d9",
   "metadata": {},
   "outputs": [],
   "source": [
    "# require install fonts on mac\n",
    "seg_list = jieba.cut_for_search(data['hot_search'].iloc[0])# 搜索引擎模式\n",
    "wc = WordCloud( \n",
    "background_color=\"black\", \n",
    "max_words=2000, \n",
    "font_path='/Users/yingyao/Library/Fonts/Verdana Italic.ttf', \n",
    "height=1200, width=1600, \n",
    "max_font_size=100, \n",
    "random_state=30, )\n",
    "myword = wc.generate(\" \".join(seg_list))  # 生成词云\n",
    "\n",
    "plt.figure(figsize = (20,10))\n",
    "plt.imshow(myword, interpolation='nearest')\n",
    "plt.axis(\"off\")\n",
    "plt.show()"
   ]
  },
  {
   "cell_type": "code",
   "execution_count": null,
   "id": "c2448522-5976-47bd-a729-99b387d1be24",
   "metadata": {},
   "outputs": [],
   "source": []
  }
 ],
 "metadata": {
  "kernelspec": {
   "display_name": "Python 3 (ipykernel)",
   "language": "python",
   "name": "python3"
  },
  "language_info": {
   "codemirror_mode": {
    "name": "ipython",
    "version": 3
   },
   "file_extension": ".py",
   "mimetype": "text/x-python",
   "name": "python",
   "nbconvert_exporter": "python",
   "pygments_lexer": "ipython3",
   "version": "3.9.7"
  }
 },
 "nbformat": 4,
 "nbformat_minor": 5
}
